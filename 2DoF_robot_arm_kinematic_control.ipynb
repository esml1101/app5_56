{
  "nbformat": 4,
  "nbformat_minor": 0,
  "metadata": {
    "colab": {
      "provenance": [],
      "private_outputs": true,
      "include_colab_link": true
    },
    "kernelspec": {
      "name": "python3",
      "display_name": "Python 3"
    },
    "language_info": {
      "name": "python"
    }
  },
  "cells": [
    {
      "cell_type": "markdown",
      "metadata": {
        "id": "view-in-github",
        "colab_type": "text"
      },
      "source": [
        "<a href=\"https://colab.research.google.com/github/esml1101/app5_56/blob/main/2DoF_robot_arm_kinematic_control.ipynb\" target=\"_parent\"><img src=\"https://colab.research.google.com/assets/colab-badge.svg\" alt=\"Open In Colab\"/></a>"
      ]
    },
    {
      "cell_type": "markdown",
      "source": [
        "# Robot arm kinematic control\n",
        "\n",
        "This page introduce the concept of controlling the end-effector of a robot when its joint are controlled with velocity set-points."
      ],
      "metadata": {
        "id": "OfiozzVs1Upg"
      }
    },
    {
      "cell_type": "markdown",
      "source": [],
      "metadata": {
        "id": "1ZacrEOVhZtd"
      }
    },
    {
      "cell_type": "markdown",
      "metadata": {
        "id": "eOFBWst7WmCb"
      },
      "source": [
        "## Importing Librairies"
      ]
    },
    {
      "cell_type": "code",
      "metadata": {
        "id": "tH-1a9VJGXi8"
      },
      "source": [
        "# Loading a robotic toolbox\n",
        "!git clone https://github.com/SherbyRobotics/pyro\n",
        "import sys\n",
        "sys.path.append('/content/pyro')\n",
        "import pyro\n",
        "\n",
        "# Generic python tools\n",
        "import numpy as np\n",
        "from IPython import display"
      ],
      "execution_count": null,
      "outputs": []
    },
    {
      "cell_type": "markdown",
      "metadata": {
        "id": "cau_ePoSW6Z_"
      },
      "source": [
        "# Defining the robot arm\n",
        "\n",
        "Here we load a already defined class from the library including the dynamic equations defining the robot arm behavior.\n",
        "\n"
      ]
    },
    {
      "cell_type": "code",
      "metadata": {
        "id": "5pf-lSEZG5gy"
      },
      "source": [
        "from pyro.dynamic import manipulator\n",
        "\n",
        "# Dynamic model (inputs are motor torques)\n",
        "torque_controlled_robot    = manipulator.TwoLinkManipulator()\n",
        "\n",
        "torque_controlled_robot.l1 = 4.0 # length of first rigid link\n",
        "torque_controlled_robot.l2 = 3.0 # length of second rigid link\n",
        "torque_controlled_robot.l_domain = 10\n",
        "\n",
        "# Kinematic only model (inputs are motor velocities)\n",
        "speed_controlled_robot  = manipulator.SpeedControlledManipulator.from_manipulator( torque_controlled_robot )\n",
        "\n",
        "robot = speed_controlled_robot # For this exercise, we will only use the kinematic model"
      ],
      "execution_count": null,
      "outputs": []
    },
    {
      "cell_type": "markdown",
      "metadata": {
        "id": "P2wLQ8lDYY9S"
      },
      "source": [
        "## Showing the robot behavior with constant velocity inputs\n",
        "\n",
        "Here we run a simulation of the robot arm with no controllers:"
      ]
    },
    {
      "cell_type": "code",
      "metadata": {
        "id": "lfjr9zXlYYMb"
      },
      "source": [
        "# robot initial states [ joint 1 angle (rad),  joint 2 angle (rad), joint 1 velocity (rad/sec),  joint 1 velocity (rad/sec)]\n",
        "robot.x0 = np.array([ 0.1, 0.1])\n",
        "\n",
        "# robot constant inputs\n",
        "robot.ubar = np.array([ 0.5, 1.0]) # Constant joint velocities\n",
        "\n",
        "# run the simulation\n",
        "robot.compute_trajectory( tf = 6 )\n",
        "\n",
        "# Animate and display the simulation\n",
        "ani  = robot.generate_simulation_html_video()\n",
        "html = display.HTML( ani )\n",
        "display.display(html)"
      ],
      "execution_count": null,
      "outputs": []
    },
    {
      "cell_type": "markdown",
      "metadata": {
        "id": "nxKK7RWBa8kd"
      },
      "source": [
        "# Kinematic controller\n",
        "\n",
        "Here bellow you can write your own custom kinematic control law, i.e. computing the joint velocity based on actual joint position and time. Here the framework is already set in place for you to speed-up the implementation process. The following variable are pre-computed and available for you to use in the feedback law:\n",
        "\n",
        "*   The joint angles $q$\n",
        "*   The time $t$\n",
        "\n",
        "Furthermore, based on a kinematic robot model the following properties are also pre-computed:\n",
        "*   The actual end-effector position $r$\n",
        "*   The Jacobian $J(q)$\n",
        "\n"
      ]
    },
    {
      "cell_type": "code",
      "metadata": {
        "id": "M4cQxkQTD0Qn"
      },
      "source": [
        "from pyro.control  import robotcontrollers\n",
        "\n",
        "class CustomKinematicController( robotcontrollers.EndEffectorKinematicController ) :\n",
        "\n",
        "    #############################\n",
        "    def c( self , y , r , t ):\n",
        "        \"\"\"\n",
        "        Feedback static computation u = c(y,r,t)\n",
        "\n",
        "        INPUTS\n",
        "        y  : sensor signal vector     p x 1\n",
        "        r  : reference signal vector  k x 1\n",
        "        t  : time                     1 x 1\n",
        "\n",
        "        OUTPUTS\n",
        "        dq  : joint velocity vector   m x 1\n",
        "\n",
        "        \"\"\"\n",
        "        global indice\n",
        "        # Feedback from sensors\n",
        "        q = y                  # Joint angles\n",
        "\n",
        "        # Pre-computed values based on the robot kinematic model\n",
        "        J = self.J( q )        # Jacobian computation\n",
        "        r = self.fwd_kin( q )  # End-effector postion\n",
        "\n",
        "        ##############################\n",
        "        # YOUR CODE BELLOW !!\n",
        "        ##############################\n",
        "\n",
        "        vmax=1\n",
        "        amax=1\n",
        "\n",
        "        # pour atteindre la vitesse max sa prend combien de temps\n",
        "        tmax=1\n",
        "\n",
        "        #r_d=np.array([5,0])\n",
        "\n",
        "        dr_d= np.array([0,0])\n",
        "        if 0<t<=1:\n",
        "          dr_d = amax*t*np.array([-1.0,0])\n",
        "        elif 1<t<=2:\n",
        "          dr_d=np.array([-1.0,0])\n",
        "        elif 2<t<=3:\n",
        "          dr_d=amax*(3-t)*np.array([-1.0,0])\n",
        "        elif 3<t<=4:\n",
        "          dr_d=amax*(t)*np.array([-0.7,0.7])\n",
        "        elif 4<t<=8.45:\n",
        "          dr=np.array([-0.7,0.7])\n",
        "        elif 8.45<t<=9.45:\n",
        "          dr_d=amax*(9.45-t)*np.array([-0.7,0.7])\n",
        "\n",
        "\n",
        "\n",
        "\n",
        "\n",
        "\n",
        "        #r_d = np.array([[5,0],[4,0],[3,0],[0,3],[0,5]])\n",
        "        #dr_d = np.array([1.0,1.0])\n",
        "        #e = r_d- r\n",
        "        #if np.linalg.norm(e)<0.1:\n",
        "                  #indice+=1\n",
        "\n",
        "        # Compute the reference\n",
        "        #r_d  = np.zeros(2) # Place-holder\n",
        "        #dr_d = np.zeros(2) # Place-holder\n",
        "\n",
        "        # Compute the desired effector velocity\n",
        "        #dr_r = np.array([-0.1,0.1]) # Place holder\n",
        "\n",
        "        sigma = 10\n",
        "        dr_r = dr_d #+ sigma*(e)\n",
        "\n",
        "        # From effector speed to joint speed\n",
        "        dq = np.linalg.inv( J ) @ dr_r\n",
        "\n",
        "        return dq"
      ],
      "execution_count": null,
      "outputs": []
    },
    {
      "cell_type": "code",
      "source": [
        "indice=0\n",
        "ctl = CustomKinematicController( robot )"
      ],
      "metadata": {
        "id": "H4Y5GkL065_g"
      },
      "execution_count": null,
      "outputs": []
    },
    {
      "cell_type": "markdown",
      "metadata": {
        "id": "rOXYBwANcsc9"
      },
      "source": [
        "## Simulating the robot in closed-loop\n",
        "\n",
        "Here we run a simulation of the robot with the controller."
      ]
    },
    {
      "cell_type": "code",
      "metadata": {
        "id": "5YuyYOPSc5Gy"
      },
      "source": [
        "# Create the closed-loop system\n",
        "robot_with_controller = ctl + robot\n",
        "\n",
        "# Run the simulation\n",
        "robot_with_controller.x0[0] = 1.0\n",
        "robot_with_controller.x0[1] = 1.0\n",
        "robot_with_controller.compute_trajectory( tf = 5 )"
      ],
      "execution_count": null,
      "outputs": []
    },
    {
      "cell_type": "code",
      "source": [
        "# Plot systems states\n",
        "robot_with_controller.plot_trajectory('x')"
      ],
      "metadata": {
        "id": "zqNOHkbr73JT",
        "collapsed": true
      },
      "execution_count": null,
      "outputs": []
    },
    {
      "cell_type": "code",
      "source": [
        "# Plot control inputs\n",
        "robot_with_controller.plot_trajectory('u')"
      ],
      "metadata": {
        "id": "aAWOXQjo75pR",
        "collapsed": true
      },
      "execution_count": null,
      "outputs": []
    },
    {
      "cell_type": "code",
      "source": [
        "# Animate the simulation\n",
        "ani = robot_with_controller.generate_simulation_html_video()\n",
        "html = display.HTML(ani)\n",
        "display.display(html)"
      ],
      "metadata": {
        "id": "6b5LMggz7kUI"
      },
      "execution_count": null,
      "outputs": []
    }
  ]
}